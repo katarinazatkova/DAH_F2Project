{
 "cells": [
  {
   "cell_type": "markdown",
   "id": "2a6f70ed",
   "metadata": {},
   "source": [
    "# 3.6 Project F2: Make Accurate Measurements of Particle Masses\n",
    "\n",
    "## 3.6.1 Goals of project\n",
    "You will use LHCb data on the invariant mass of particle candidates that you were introduced\n",
    "to during a checkpoint. You will analyse this in a much more sophisticated way, closer to the\n",
    "actual analysis performed leading to its publication. You will use the maximum likelihood\n",
    "process to fit different mass model shapes to the data. From this you will determine the\n",
    "parameters of the mass model for the signal peaks, and their errors. You will start with a\n",
    "very simple Gaussian mass model. You will then improve this and use a more sophisticated\n",
    "model.\n",
    "The projects have an open-ended aspect and are an opportunity where you can show your\n",
    "own initiative and demonstrate your experimental and computational skills.\n",
    "## 3.6.2 Equipment for project F2\n",
    "This is a data handling exercise and the Raspberry Pi is not required, but can still be used.\n",
    "You may find it faster to use the CPlab computers — there are several available in the DAH\n",
    "laboratory. Alternatively you could use a personal laptop, but you will need to be able to\n",
    "install Python and Python packages on your own.\n",
    "## 3.6.3 Detailed project description\n",
    "You were previously introduced to the LHCb Upsilon data. In this project you will explore\n",
    "another LHCb dataset collected in 2011 where a pair of oppositely charged kaons and a pion\n",
    "have been combined. Two clear peaks are observed in this mass spectrum corresponding\n",
    "to the D+s (quark content cs) and D+ (quark content cd) mesons (charge conjugation is\n",
    "implied), see figure below For more information see: DOI:10.1007/JHEP06(2013)065.\n",
    "\n",
    "Download the files kkp.bin and kkpp.bin files from the DAH Dropbox, These files contain\n",
    "the data recorded by LHCb in 2011 for D+\n",
    "(s) and D0 decays respectively. Focus on the D+\n",
    "(s)\n",
    "data file (kkp.bin): The files are written in binary format and contain seven observables\n",
    "• invariant mass of K+K−π+ candidate in MeV/c2\n",
    "• invariant mass of kaon pair in MeV/c2\n",
    "• transverse momentum of K+K−π+ candidate in GeV/c\n",
    "• rapidity η of K+K−π+ candidate\n",
    "• minimum tranverse momentum of the three tracks in the K+K−π+ candidate\n",
    "• electric charge of the candidate\n",
    "• polarity of the LHCb magnetic field\n",
    "Write a Python script that reads the data from this file, see below.\n"
   ]
  },
  {
   "cell_type": "code",
   "execution_count": null,
   "id": "70f5dab5",
   "metadata": {},
   "outputs": [],
   "source": [
    "# Imports\n",
    "import matplotlib.pyplot as plt\n",
    "import numpy as np\n",
    "from scipy.stats import norm\n",
    "import scipy.integrate as integrate\n",
    "from iminuit import Minuit\n",
    "from iminuit.cost import UnbinnedNll"
   ]
  },
  {
   "cell_type": "code",
   "execution_count": 11,
   "id": "77495a26",
   "metadata": {},
   "outputs": [
    {
     "name": "stdout",
     "output_type": "stream",
     "text": [
      "[ 2.0353304e+03  1.0168776e+03  7.0066626e+03  2.7526996e+00\n",
      "  1.2672668e+03 -1.0000000e+00 -1.0000000e+00]\n",
      "2035.3304\n",
      "1976.6211\n",
      "1951.6748\n",
      "1948.279\n",
      "1963.4604\n",
      "2042.8231\n",
      "1974.3098\n",
      "1963.4763\n",
      "1958.2471\n",
      "1954.7019\n"
     ]
    }
   ],
   "source": [
    "f = open(\"kkp.bin\",\"r\")\n",
    "b = np.fromfile(f,dtype=np.float32)\n",
    "ncol = 7\n",
    "# number of events\n",
    "nevent = len(b)/ncol\n",
    "x = np.split(b, nevent)\n",
    "print(xdata[0])\n",
    "# make list of invariant mass of events\n",
    "xmass = []\n",
    "for i in range(0, len(xdata)):\n",
    "    xmass.append(xdata[i][0])\n",
    "    if i < 10:\n",
    "        print(xmass[i])"
   ]
  },
  {
   "cell_type": "code",
   "execution_count": 12,
   "id": "c716ec68",
   "metadata": {},
   "outputs": [
    {
     "data": {
      "image/png": "[encoded data removed]",
      "text/plain": [
       "<Figure size 640x480 with 1 Axes>"
      ]
     },
     "metadata": {},
     "output_type": "display_data"
    }
   ],
   "source": [
    "# Plotting as histogram to see the range of data\n",
    "plt.hist(xmass, bins = 100, color='orange')\n",
    "plt.title(\"Histogram of measurements from a mass distribution\")\n",
    "plt.xlabel(\"Mass\")\n",
    "plt.ylabel(\"Counts\")\n",
    "plt.show()"
   ]
  },
  {
   "cell_type": "markdown",
   "id": "54c1edc6",
   "metadata": {},
   "source": [
    "During checkpoint 6, you performed some very simple “peak finding.” In this project you\n",
    "are going to do the analysis much like it would actually be carried out in a particle physics\n",
    "experiment."
   ]
  },
  {
   "cell_type": "markdown",
   "id": "a276234a",
   "metadata": {},
   "source": [
    "1. Consider first the D+ peak which is the particle with the lowest mass, i.e. the left\n",
    "most peak in the plot. Construct a composite probability density function (PDF) for\n",
    "the invariant mass of the muon pairs, which contains two components:\n",
    "• A Gaussian shape to fit the D+ mass peak;\n",
    "• A shallow falling exponential to fit the background shape of the mass spectrum\n",
    "underneath and around the peak."
   ]
  },
  {
   "cell_type": "code",
   "execution_count": 13,
   "id": "c2419426",
   "metadata": {},
   "outputs": [],
   "source": [
    "xmass_min=1800\n",
    "xmass_max=2050\n",
    "\n",
    "def norm_exp(self, x, tau):\n",
    "    exp_norm_factor = np.exp(-self.xmass_min/tau) - np.exp(-self.xmass_max/tau)\n",
    "            \n",
    "    return 1/(tau*exp_norm_factor)*np.exp(-x/tau)\n",
    "\n",
    "\n",
    "def gauss(self, x, mu, sigma):         \n",
    "    return np.exp(-0.5*((x-mu)/sigma)**2)\n",
    "\n",
    "\n",
    "def norm_gauss(self, x, mu, sigma):\n",
    "    \n",
    "    norm_gauss_factor, _ = integrate.quad(gauss, self.xmass_min, self.xmass_max, args = [mu, sigma])\n",
    "    norm_gauss = (1/norm_gauss_factor)*np.exp(-0.5*((x-mu)/sigma)**2)\n",
    "    \n",
    "    return norm_gauss\n",
    "\n",
    "\n",
    "def composite_pdf(self, x, mu, sigma, tau, f):\n",
    "    \"\"\"\n",
    "    Composite PDF.\n",
    "        \n",
    "    Args:\n",
    "\n",
    "    \"\"\"\n",
    "    norm_exp = norm_exp(x, tau)\n",
    "    norm_gauss = norm_gauss(x, mu, sigma)\n",
    "    \n",
    "    return(f*norm_exp + (1-f)*norm_gauss)"
   ]
  },
  {
   "cell_type": "markdown",
   "id": "de968cf9",
   "metadata": {},
   "source": [
    "2. Use this PDF in a Maximum Likelihood fit to determine the parameters of the PDF.\n",
    "Note that it is essential that the composite PDF remains normalised to 1 over the\n",
    "range of the fit.\n",
    "Determine the D+ meson mass and yield, and all other parameters, and their errors.\n",
    "You should be able to obtain the parameter errors directly from the minimization en-\n",
    "gine of your choice (scipy.optimize.minimise, scipy.optimise.curve_fit, lmfit, see https:\n",
    "//lmfit.github.io/lmfit-py/ or Minuit). Depending on your choice you will be able\n",
    "to chose different minimising methods. It would be good to show that you understand\n",
    "these by obtaining them yourself from the parameters of the Gaussian signal fit — this\n",
    "is described in the data handling lectures.\n",
    "Plot the fitted signal shape on top of the data."
   ]
  },
  {
   "cell_type": "code",
   "execution_count": null,
   "id": "c4dab60e",
   "metadata": {},
   "outputs": [],
   "source": [
    "nll = UnbinnedNLL(xmass,composite_pdf)\n",
    "#set params to some vals\n",
    "minuit = Minuit(nll, x, mu, sigma, tau, f)\n",
    "m.limits[\"f\"] = (0, 1)\n",
    "minuit.migrad()\n",
    "minuit.hesse()\n",
    "\n",
    "for i, j, k in zip(minuit.parameters, minuit.values, minuit.errors):\n",
    "    print(f\"{i} = {j} +/- {k}\"\")\n",
    "          "
   ]
  },
  {
   "cell_type": "code",
   "execution_count": null,
   "id": "32c85d9f",
   "metadata": {},
   "outputs": [],
   "source": [
    "# Plotting\n",
    "x = np.linspace(1800, 2049, 1000)\n",
    "y = [composite_pdf(x, #vals of the params that we got) for i in x]\n",
    "\n",
    "plt.hist(xmass, bins = 100, color='orange')\n",
    "plt.plot(x, y)\n",
    "plt.title(\"Histogram of measurements from a mass distribution\")\n",
    "plt.xlabel(\"Mass\")\n",
    "plt.ylabel(\"Counts\")\n",
    "plt.show()"
   ]
  },
  {
   "cell_type": "markdown",
   "id": "3918d5d8",
   "metadata": {},
   "source": [
    "3. Now consider the entire mass range, and perform a simultaneous fit for both peaks,\n",
    "and the underlying background. Again you should always report the parameter values,\n",
    "and their errors. Plot the fitted signal shape on top of the data."
   ]
  },
  {
   "cell_type": "markdown",
   "id": "70dac233",
   "metadata": {},
   "source": [
    "4. The results so far probably look quite good by eye, i.e. the signal shape plotted on\n",
    "top of the data probably looks like it fits well. However this can be misleading when\n",
    "performing a precision measurement. You should make a plot of what are called the\n",
    "“residuals.” A residual is the difference between the data in the binned histogram and\n",
    "the best-fit mass model value for the centre of that bin. Describe what you see."
   ]
  },
  {
   "cell_type": "markdown",
   "id": "5bb72d43",
   "metadata": {},
   "source": [
    "5. There are several ways to enhance the scope of the project.\n",
    "• If the single Gaussian mass model does not fit the data perfectly, one can try\n",
    "other mass models, i.e. a signal PDF that goes beyond a single Gaussian func-\n",
    "tion. One example is a PDF comprising a function which is the sum of two\n",
    "Gaussian functions (i.e. one narrow and one wide Gaussian function to fit a sin-\n",
    "gle D meson peak). Alternatively try a Crystal Ball function, which incorporates\n",
    "a non-Gaussian tail at the lower end of the mass peak. The functional shape is de-\n",
    "scribed elsewhere, e.g. see: https://en.wikipedia.org/wiki/Crystal_Ball_\n",
    "function. You could implement each of these functions in your PDF and see how\n",
    "much better they are at describing the data.\n",
    "• Read the publication and see what is said about systematic errors. Make a rea-\n",
    "sonable attempt at determining some systematic errors on the masses.\n",
    "• Compare your results to the PDG and previous measurements.\n",
    "• Study how the mass and the width of the peak (the resolution) depends on the\n",
    "transverse momentum (p⊥) and rapidity (η)."
   ]
  },
  {
   "cell_type": "markdown",
   "id": "17a23187",
   "metadata": {},
   "source": [
    "3.6.4 Project planning\n",
    "The project descriptions are generally significantly less detailed than what was made avail-\n",
    "able for the checkpoints. Any material covered during checkpoints including python code\n",
    "examples are assumed to be known. Only essential and new information is provided and you\n",
    "are expected to take care of the details. Python code snippets are provided where necessary,\n",
    "but you will have to understand yourself what they do. It is recommend that you google for\n",
    "information about your project on the web, including data sheets of components and python\n",
    "libraries, if applicable. Python scripts should be well structured, either using functions or\n",
    "classes.\n",
    "The timeline will vary between different projects, but in general, it is recommended that you\n",
    "plan your work as follows:\n",
    "• weeks 7, 8 & 9: Building your gadget and/or writing code for project;\n",
    "• week 9, 10: Analysis of data or equivalent, prepare supplementary material;\n",
    "• week 10, 11: Finish writing of project report and prepare submission.\n",
    "Note that you are advised to start writing your report as the project progresses.\n",
    "For guidance on report writing, how the projects will be assessed, plagiarism and the sub-\n",
    "mission deadline, please consult the DAH course booklet and the DAH grade descriptors,\n",
    "available on Learn."
   ]
  }
 ],
 "metadata": {
  "kernelspec": {
   "display_name": "Python 3 (ipykernel)",
   "language": "python",
   "name": "python3"
  },
  "language_info": {
   "codemirror_mode": {
    "name": "ipython",
    "version": 3
   },
   "file_extension": ".py",
   "mimetype": "text/x-python",
   "name": "python",
   "nbconvert_exporter": "python",
   "pygments_lexer": "ipython3",
   "version": "3.9.13"
  }
 },
 "nbformat": 4,
 "nbformat_minor": 5
}
